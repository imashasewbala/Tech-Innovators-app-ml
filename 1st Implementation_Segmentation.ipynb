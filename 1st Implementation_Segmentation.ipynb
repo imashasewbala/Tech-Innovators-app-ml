{
 "cells": [
  {
   "cell_type": "code",
   "execution_count": null,
   "id": "efd42533-7a28-4865-8199-a1203cdf298c",
   "metadata": {},
   "outputs": [],
   "source": [
    "import os\n",
    "import cv2\n",
    "import numpy as np\n",
    "from skimage.feature import hog\n",
    "import matplotlib.pyplot as plt\n",
    "import json"
   ]
  },
  {
   "cell_type": "markdown",
   "id": "4783f9ff-3fe4-44a3-b392-8c00e229cb8f",
   "metadata": {},
   "source": [
    "Loads an image from the specified path."
   ]
  },
  {
   "cell_type": "code",
   "execution_count": null,
   "id": "6b091f45-ec8b-426d-b8b3-71c79e7564ac",
   "metadata": {},
   "outputs": [],
   "source": [
    "# Load the image\n",
    "image_path = \"Preprocessed\\image_path\"\n",
    "image = cv2.imread(image_path)"
   ]
  },
  {
   "cell_type": "code",
   "execution_count": null,
   "id": "d7b7e44e-398e-4a5f-92a3-ae4ba05de65f",
   "metadata": {},
   "outputs": [],
   "source": [
    "Converts preprocessed image to grayscale (gray) using OpenCV (cv2 library)."
   ]
  },
  {
   "cell_type": "code",
   "execution_count": null,
   "id": "b7a81e52-be03-42b7-9245-5df5e3a20520",
   "metadata": {},
   "outputs": [],
   "source": [
    "# Convert to grayscale\n",
    "gray = cv2.cvtColor(image, cv2.COLOR_BGR2GRAY)"
   ]
  },
  {
   "cell_type": "markdown",
   "id": "1645e5d4-5795-46d6-bb6f-641d394916b7",
   "metadata": {},
   "source": [
    "Otsu's thresholding method (cv2.THRESH_OTSU) on the grayscale image (gray) to segment the image into foreground and background regions. The result is stored in segmented."
   ]
  },
  {
   "cell_type": "code",
   "execution_count": null,
   "id": "36d3c503-860f-4757-ab27-058e2adb3baf",
   "metadata": {},
   "outputs": [],
   "source": [
    "# Perform thresholding for segmentation\n",
    "_, segmented = cv2.threshold(gray, 128, 255, cv2.THRESH_BINARY_INV + cv2.THRESH_OTSU)"
   ]
  },
  {
   "cell_type": "markdown",
   "id": "bafe0ad8-9ac4-4ac4-9bf9-87640c2d5f64",
   "metadata": {},
   "source": [
    "Applies the Canny edge detection algorithm on the segmented image to detect edges. Parameters 100 and 200 represent the low and high thresholds for edge detection."
   ]
  },
  {
   "cell_type": "code",
   "execution_count": null,
   "id": "0b928a6b-bb86-4ba1-8357-0ab47ca94a48",
   "metadata": {},
   "outputs": [],
   "source": [
    "# Apply Canny edge detection on the segmented image\n",
    "edges = cv2.Canny(segmented, 100, 200)"
   ]
  },
  {
   "cell_type": "markdown",
   "id": "b0c50034-8a72-4fd2-a559-0bb96b5d9fa0",
   "metadata": {},
   "source": [
    "HOG Parameters: Sets up parameters (hog_params) for computing HOG features:\n",
    "\n",
    "    orientations: Number of orientation bins.\n",
    "    pixels_per_cell: Size (in pixels) of a cell.\n",
    "    cells_per_block: Number of cells in each block.\n",
    "    block_norm: Block normalization method.\n",
    "    visualize: Whether to return a visualization image (hog_image).\n",
    "    transform_sqrt: Whether to apply power law compression to normalize gradients."
   ]
  },
  {
   "cell_type": "code",
   "execution_count": null,
   "id": "d7a5af02-7f86-431f-8aa4-cf334fb86621",
   "metadata": {},
   "outputs": [],
   "source": [
    "# Define parameters for HOG\n",
    "hog_params = {\n",
    "    'orientations': 9,\n",
    "    'pixels_per_cell': (8, 8),\n",
    "    'cells_per_block': (2, 2),\n",
    "    'block_norm': 'L2-Hys',\n",
    "    'visualize': True,\n",
    "    'transform_sqrt': True\n",
    "}"
   ]
  },
  {
   "cell_type": "markdown",
   "id": "96efe7c0-8b24-40c9-b06d-909d5fc202e1",
   "metadata": {},
   "source": [
    "HOG Calculation: Computes HOG features (hog_features) from the edges (edges) using the specified parameters."
   ]
  },
  {
   "cell_type": "code",
   "execution_count": null,
   "id": "96ee0dea-78ea-42fb-9b36-13986402decc",
   "metadata": {},
   "outputs": [],
   "source": [
    "# Compute HOG features and visualization\n",
    "hog_features, hog_image = hog(edges, **hog_params)"
   ]
  },
  {
   "cell_type": "markdown",
   "id": "6f4b8a31-7188-4e1d-8cbd-366cc3b4f63f",
   "metadata": {},
   "source": [
    "Implements the Improved Local Ternary Patterns (ILTP) algorithm:\n",
    "\n",
    "    *Purpose: Computes a binary code representation of local image patterns based on pixel intensity differences.\n",
    "    \n",
    "    *Parameters: Takes an input image (grayscale) and a threshold value to determine pattern coding.\n",
    "    \n",
    "    *Returns: Returns the ILTP image (iltp_image) where each pixel represents a computed pattern code."
   ]
  },
  {
   "cell_type": "code",
   "execution_count": null,
   "id": "250e57ad-bd67-4048-83c4-cb5fb7cf5be1",
   "metadata": {},
   "outputs": [],
   "source": [
    "# Function to compute Improved Local Ternary Patterns (ILTP)\n",
    "def iltp(image, threshold=5):\n",
    "    rows, cols = image.shape\n",
    "    iltp_image = np.zeros((rows, cols), dtype=np.int32)\n",
    "\n",
    "    for i in range(1, rows-1):\n",
    "        for j in range(1, cols-1):\n",
    "            center = image[i, j]\n",
    "            code = 0\n",
    "            for k in range(8):\n",
    "                row_offset = [-1, -1, 0, 1, 1, 1, 0, -1]\n",
    "                col_offset = [0, 1, 1, 1, 0, -1, -1, -1]\n",
    "                neighbor = image[i + row_offset[k], j + col_offset[k]]\n",
    "                code <<= 3\n",
    "                if neighbor > center + threshold:\n",
    "                    code |= 2\n",
    "                elif neighbor < center - threshold:\n",
    "                    code |= 0\n",
    "                else:\n",
    "                    code |= 1\n",
    "            iltp_image[i, j] = code\n",
    "    return iltp_image"
   ]
  },
  {
   "cell_type": "code",
   "execution_count": null,
   "id": "f2a509cf-fe16-4e79-b964-57a1e979973c",
   "metadata": {},
   "outputs": [],
   "source": [
    "# Compute ILTP features\n",
    "iltp_image = iltp(edges)"
   ]
  },
  {
   "cell_type": "markdown",
   "id": "8b0a2db3-4b40-404c-b383-98d03ff0078e",
   "metadata": {},
   "source": [
    "Computes color histograms for each channel (blue, green, red) of the preprocessed image (image) in BGR format:\n",
    "\n",
    "    *Parameters: bins specifies the number of bins for histogram calculation (default is 256).\n",
    "    \n",
    "    *Returns: Returns flattened histograms (hist_b, hist_g, hist_r) for each color channel.\n",
    "        - hist_b (numpy.ndarray): Blue channel histogram.\n",
    "        - hist_g (numpy.ndarray): Green channel histogram.\n",
    "        - hist_r (numpy.ndarray): Red channel histogram."
   ]
  },
  {
   "cell_type": "code",
   "execution_count": null,
   "id": "3d397bde-c801-4ee1-9d2d-b94ce465c51d",
   "metadata": {},
   "outputs": [],
   "source": [
    "# Compute color histograms for each channel\n",
    "def compute_color_histograms(image, bins=256):\n",
    "    hist_b = cv2.calcHist([image], [0], None, [bins], [0, 256])\n",
    "    hist_g = cv2.calcHist([image], [1], None, [bins], [0, 256])\n",
    "    hist_r = cv2.calcHist([image], [2], None, [bins], [0, 256])\n",
    "    return hist_b.flatten(), hist_g.flatten(), hist_r.flatten()\n",
    "\n",
    "hist_b, hist_g, hist_r = compute_color_histograms(image)"
   ]
  },
  {
   "cell_type": "markdown",
   "id": "6af6b5ab-ea54-4cbe-9b43-5e312c19bbd8",
   "metadata": {},
   "source": [
    "Converts multidimensional feature arrays (hog_features, iltp_image, edges, hist_b, hist_g, hist_r) into flattened arrays (*_flat) suitable for storage."
   ]
  },
  {
   "cell_type": "code",
   "execution_count": null,
   "id": "7da6d7fb-ba2b-4c75-acd8-471df088b8ad",
   "metadata": {},
   "outputs": [],
   "source": [
    "# Flatten the features for storage\n",
    "hog_features_flat = hog_features.flatten()\n",
    "iltp_features_flat = iltp_image.flatten()\n",
    "edges_flat = edges.flatten()\n",
    "hist_b_flat = hist_b.flatten()\n",
    "hist_g_flat = hist_g.flatten()\n",
    "hist_r_flat = hist_r.flatten()"
   ]
  },
  {
   "cell_type": "markdown",
   "id": "65c6eedf-763d-4f38-8c5d-28f9c7066e5f",
   "metadata": {},
   "source": [
    "Creates a dictionary (features) to store flattened features as lists (tolist()) for JSON serialization."
   ]
  },
  {
   "cell_type": "code",
   "execution_count": null,
   "id": "294f724f-4a24-491b-aa6c-09fedb8637be",
   "metadata": {},
   "outputs": [],
   "source": [
    "# Create a dictionary for storing features\n",
    "features = {\n",
    "    'hog_features': hog_features_flat.tolist(),\n",
    "    'iltp_features': iltp_features_flat.tolist(),\n",
    "    'canny_edges': edges_flat.tolist(),\n",
    "    'color_histogram_blue': hist_b_flat.tolist(),\n",
    "    'color_histogram_green': hist_g_flat.tolist(),\n",
    "    'color_histogram_red': hist_r_flat.tolist()\n",
    "}"
   ]
  },
  {
   "cell_type": "markdown",
   "id": "49b5d8c2-c8a7-4732-8d89-3e71e0af1926",
   "metadata": {},
   "source": [
    "Ensures the output directory (/mnt/data/) exists or creates it if not (os.makedirs(output_dir, exist_ok=True))."
   ]
  },
  {
   "cell_type": "code",
   "execution_count": null,
   "id": "38471e81-0e44-4a6e-9ad2-f4231e01882f",
   "metadata": {},
   "outputs": [],
   "source": [
    "# Ensure the directory exists\n",
    "output_dir = '/mnt/data/'\n",
    "os.makedirs(output_dir, exist_ok=True)"
   ]
  },
  {
   "cell_type": "markdown",
   "id": "5806160b-2c9e-4cdb-bbe9-5eb63e3a85a5",
   "metadata": {},
   "source": [
    "Saves the extracted features (features dictionary) to a JSON file (segmentation_features.json) in the specified directory (output_dir) using Python's json.dump()."
   ]
  },
  {
   "cell_type": "code",
   "execution_count": null,
   "id": "13dd1417-332f-44c0-a1c4-557231c75676",
   "metadata": {},
   "outputs": [],
   "source": [
    "# Save the features to a JSON file\n",
    "output_file = os.path.join(output_dir, 'segmentation_features.json')\n",
    "with open(output_file, 'w') as f:\n",
    "    json.dump(features, f)\n",
    "\n",
    "print(\"Features saved successfully.\")"
   ]
  }
 ],
 "metadata": {
  "kernelspec": {
   "display_name": "Python 3 (ipykernel)",
   "language": "python",
   "name": "python3"
  },
  "language_info": {
   "codemirror_mode": {
    "name": "ipython",
    "version": 3
   },
   "file_extension": ".py",
   "mimetype": "text/x-python",
   "name": "python",
   "nbconvert_exporter": "python",
   "pygments_lexer": "ipython3",
   "version": "3.12.4"
  }
 },
 "nbformat": 4,
 "nbformat_minor": 5
}
